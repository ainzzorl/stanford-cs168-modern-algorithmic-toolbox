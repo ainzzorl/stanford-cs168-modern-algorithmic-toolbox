{
 "cells": [
  {
   "cell_type": "code",
   "execution_count": 5,
   "id": "electrical-beijing",
   "metadata": {},
   "outputs": [],
   "source": [
    "from scipy.fft import fft, ifft\n",
    "import numpy as np"
   ]
  },
  {
   "cell_type": "code",
   "execution_count": 50,
   "id": "parallel-vertical",
   "metadata": {},
   "outputs": [],
   "source": [
    "def drop_leading_zeros(v):\n",
    "    lastgood = len(v) - 1\n",
    "    while lastgood > 0 and v[lastgood] == 0:\n",
    "        lastgood -= 1\n",
    "    return v[:(lastgood + 1)]\n",
    "\n",
    "def normalize(v):\n",
    "    res = []\n",
    "    over = 0\n",
    "    for x in v:\n",
    "        cur = x + over\n",
    "        res.append(cur % 10)\n",
    "        over = cur // 10\n",
    "    while over > 0:\n",
    "        res.append(over % 10)\n",
    "        over //= 10\n",
    "    return np.array(res)\n",
    "\n",
    "def multiply(x, y):\n",
    "    xp = np.concatenate((np.zeros(len(y)), x))\n",
    "    yp = np.concatenate((np.zeros(len(x)), y))\n",
    "    xf = fft(xp)\n",
    "    yf = fft(yp)\n",
    "    ff = np.multiply(xf, yf)\n",
    "    result = np.rint(np.abs(ifft(ff)))\n",
    "    result = drop_leading_zeros(result)\n",
    "    result = normalize(result)\n",
    "    return result.astype(dtype=int)\n",
    "\n",
    "x = np.array([3, 2, 1])\n",
    "y = np.array([5, 4])\n",
    "m = multiply(x, y)\n",
    "#print(m)\n",
    "assert np.array_equal(np.array([5, 3, 5, 5]), m)\n",
    "\n",
    "x = np.array([0, 1, 2, 3])\n",
    "y = np.array([4, 5, 6])\n",
    "m = multiply(x, y)\n",
    "#print(m)\n",
    "assert np.array_equal(np.array([0, 4, 3, 9, 9, 0, 2]), m)"
   ]
  },
  {
   "cell_type": "code",
   "execution_count": 58,
   "id": "proprietary-context",
   "metadata": {},
   "outputs": [
    {
     "name": "stdout",
     "output_type": "stream",
     "text": [
      "121932631137021795224965706422374638011112635269\n"
     ]
    }
   ],
   "source": [
    "def tostr(num):\n",
    "    return ''.join(map(str, num))[::-1]\n",
    "\n",
    "x = np.array([1, 2, 3, 4, 5, 6, 7, 8, 9, 0, 1, 2, 3, 4, 5, 6, 7, 8, 9, 0])\n",
    "y = np.array([9, 8, 7, 6, 5, 4, 3, 2, 1, 0, 9, 8, 7, 6, 5, 4, 3, 2, 1, 0, 9, 8, 7, 6, 5, 4, 3, 2, 1, 0])\n",
    "print(tostr(multiply(x, y)))"
   ]
  },
  {
   "cell_type": "code",
   "execution_count": null,
   "id": "broad-circumstances",
   "metadata": {},
   "outputs": [],
   "source": []
  }
 ],
 "metadata": {
  "kernelspec": {
   "display_name": "Python (cs168)",
   "language": "python",
   "name": "cs168"
  },
  "language_info": {
   "codemirror_mode": {
    "name": "ipython",
    "version": 3
   },
   "file_extension": ".py",
   "mimetype": "text/x-python",
   "name": "python",
   "nbconvert_exporter": "python",
   "pygments_lexer": "ipython3",
   "version": "3.8.8"
  }
 },
 "nbformat": 4,
 "nbformat_minor": 5
}
